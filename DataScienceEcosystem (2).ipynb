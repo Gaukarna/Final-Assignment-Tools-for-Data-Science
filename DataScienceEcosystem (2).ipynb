{
 "cells": [
  {
   "cell_type": "markdown",
   "id": "d726f122",
   "metadata": {},
   "source": [
    "##Exercise 2: Create a markdown cell with title of the notebook"
   ]
  },
  {
   "cell_type": "markdown",
   "id": "18bd52d4",
   "metadata": {},
   "source": [
    "# Data Science Tools and Ecosystem"
   ]
  },
  {
   "cell_type": "markdown",
   "id": "54ea723b",
   "metadata": {},
   "source": []
  },
  {
   "cell_type": "markdown",
   "id": "e6a46ef2",
   "metadata": {},
   "source": [
    "##Exercise 3 - Create a markdown cell for an introduction."
   ]
  },
  {
   "cell_type": "markdown",
   "id": "f92b2baa",
   "metadata": {},
   "source": [
    "In this notebook, Data Science Tools and Ecosystem are summarized."
   ]
  },
  {
   "cell_type": "markdown",
   "id": "a6be9041",
   "metadata": {},
   "source": [
    "###Exercise 10 - Insert a markdown cell to list Objectives."
   ]
  },
  {
   "cell_type": "markdown",
   "id": "b6345d42",
   "metadata": {},
   "source": [
    "**Objectives:**\n",
    "\n",
    "* List popular languages for Data Science.\n",
    "* List examples of open-source tools used in data science.\n",
    "* List the various libraries: scientific, visualization, machine learning, and deep learning.\n",
    "* Describe how to use the notebooks in JupyterLab.\n",
    "* Explain version control and describe the Git and GitHub environment."
   ]
  },
  {
   "cell_type": "code",
   "execution_count": null,
   "id": "68ec0bcb",
   "metadata": {},
   "outputs": [],
   "source": []
  },
  {
   "cell_type": "markdown",
   "id": "f660e403",
   "metadata": {},
   "source": [
    "##Exercise 4 - Create a markdown cell to list data science languages."
   ]
  },
  {
   "cell_type": "markdown",
   "id": "1937db88",
   "metadata": {},
   "source": [
    "Some of the popular languages that Data Scientists use are:\n",
    "\n",
    "1. Python\n",
    "\n",
    "2. R\n",
    "\n",
    "3. SQL\n",
    "\n",
    "4. Java\n",
    "\n",
    "5. Scala\n",
    "\n"
   ]
  },
  {
   "cell_type": "code",
   "execution_count": null,
   "id": "a5d4589d",
   "metadata": {},
   "outputs": [],
   "source": []
  },
  {
   "cell_type": "markdown",
   "id": "0c9b4c1a",
   "metadata": {},
   "source": [
    "##Exercise 5 - Create a markdown cell to list data science libraries."
   ]
  },
  {
   "cell_type": "markdown",
   "id": "dbaa6fb8",
   "metadata": {},
   "source": [
    "Some of the commonly used libraries used by Data Scientist include:\n",
    "\n",
    "1. NumPy\n",
    "\n",
    "2. Pandas\n",
    "\n",
    "3. SciPy\n",
    "\n",
    "4. Matplotlib\n",
    "\n",
    "5. TensorFlow\n"
   ]
  },
  {
   "cell_type": "markdown",
   "id": "439fb82f",
   "metadata": {},
   "source": []
  },
  {
   "cell_type": "markdown",
   "id": "631969e8",
   "metadata": {},
   "source": [
    "\n",
    "##Exercise 6 - Create a markdown cell with a table of Data Science tools."
   ]
  },
  {
   "cell_type": "markdown",
   "id": "1f109e98",
   "metadata": {},
   "source": [
    "| Data Science Tools |\n",
    "| ------------------ |\n",
    "| RStudio |\n",
    "| Apache Spark |\n",
    "| TensorFlow |\n"
   ]
  },
  {
   "cell_type": "markdown",
   "id": "48a34ea4",
   "metadata": {},
   "source": []
  },
  {
   "cell_type": "markdown",
   "id": "97ef6f80",
   "metadata": {},
   "source": [
    "##Exercise 7 - Create a markdown cell introducing arithmetic expression examples."
   ]
  },
  {
   "cell_type": "markdown",
   "id": "d9bbc24d",
   "metadata": {},
   "source": [
    "### Below are a few examples of evaluating arithmetic expressions in Python.\n"
   ]
  },
  {
   "cell_type": "markdown",
   "id": "af9e150d",
   "metadata": {},
   "source": []
  },
  {
   "cell_type": "code",
   "execution_count": 4,
   "id": "8593c4b2",
   "metadata": {},
   "outputs": [
    {
     "data": {
      "text/plain": [
       "17"
      ]
     },
     "execution_count": 4,
     "metadata": {},
     "output_type": "execute_result"
    }
   ],
   "source": [
    "##Exercise 8 - Create a code cell to multiply and add numbers\n",
    "\n",
    "###This is a simple arithmetic expression to multiply then add integers.\n",
    "(3*4)+5"
   ]
  },
  {
   "cell_type": "code",
   "execution_count": null,
   "id": "b99cf90d",
   "metadata": {},
   "outputs": [],
   "source": []
  },
  {
   "cell_type": "code",
   "execution_count": 5,
   "id": "c6e14525",
   "metadata": {},
   "outputs": [
    {
     "data": {
      "text/plain": [
       "3"
      ]
     },
     "execution_count": 5,
     "metadata": {},
     "output_type": "execute_result"
    }
   ],
   "source": [
    "###Exercise 9 - Create a code cell to convert minutes to hours\n",
    "\n",
    "###This will convert 200 minutes to hours by dividing by 60.\n",
    "200//60 "
   ]
  },
  {
   "cell_type": "code",
   "execution_count": null,
   "id": "99cdce25",
   "metadata": {},
   "outputs": [],
   "source": [
    "###OR\n"
   ]
  },
  {
   "cell_type": "code",
   "execution_count": 4,
   "id": "59591745",
   "metadata": {},
   "outputs": [
    {
     "data": {
      "text/plain": [
       "3.3333333333333335"
      ]
     },
     "execution_count": 4,
     "metadata": {},
     "output_type": "execute_result"
    }
   ],
   "source": [
    "###This will convert 200 minutes to hours by dividing by 60.\n",
    "200/60"
   ]
  },
  {
   "cell_type": "code",
   "execution_count": null,
   "id": "c347e74c",
   "metadata": {},
   "outputs": [],
   "source": []
  },
  {
   "cell_type": "markdown",
   "id": "1ccc477a",
   "metadata": {},
   "source": [
    "###Exercise 11 - Create a markdown cell to indicate the Author's name."
   ]
  },
  {
   "cell_type": "markdown",
   "id": "80f56f41",
   "metadata": {},
   "source": [
    "## Author\n",
    "\n",
    "Mrs.Gaukarna Kendrekar"
   ]
  },
  {
   "cell_type": "markdown",
   "id": "625a899d",
   "metadata": {},
   "source": []
  }
 ],
 "metadata": {
  "kernelspec": {
   "display_name": "Python 3 (ipykernel)",
   "language": "python",
   "name": "python3"
  },
  "language_info": {
   "codemirror_mode": {
    "name": "ipython",
    "version": 3
   },
   "file_extension": ".py",
   "mimetype": "text/x-python",
   "name": "python",
   "nbconvert_exporter": "python",
   "pygments_lexer": "ipython3",
   "version": "3.11.5"
  }
 },
 "nbformat": 4,
 "nbformat_minor": 5
}
